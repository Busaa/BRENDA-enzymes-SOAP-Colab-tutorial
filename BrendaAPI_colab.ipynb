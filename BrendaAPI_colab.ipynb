{
  "nbformat": 4,
  "nbformat_minor": 0,
  "metadata": {
    "colab": {
      "provenance": []
    },
    "kernelspec": {
      "name": "python3",
      "display_name": "Python 3"
    },
    "language_info": {
      "name": "python"
    }
  },
  "cells": [
    {
      "cell_type": "markdown",
      "source": [
        "# Brenda Enzymes SOAP API usage guide\n",
        "\n",
        "This Google Colab guide will show you how to install and use the BRENDA SOAP API to search for your area of interest in the BRENDA database.\n",
        "\n",
        "-Made by Busaa\n",
        "\n",
        "August 2024"
      ],
      "metadata": {
        "id": "-03RywecW5wv"
      }
    },
    {
      "cell_type": "markdown",
      "source": [
        "## Instalation - First Steps\n",
        "\n",
        "**Remember to read these in order to make your own querys.**\n",
        "\n",
        "ZEEP documentation -  https://docs.python-zeep.org/en/master/\n",
        "\n",
        "BRENDA SOAP API documentation - https://www.brenda-enzymes.org/soap.php\n",
        "\n",
        "\n",
        "#### You will have to run this first nodes every time you log off\n"
      ],
      "metadata": {
        "id": "QAPWuisGbOXq"
      }
    },
    {
      "cell_type": "code",
      "source": [
        "#@title Instaling the libraries required\n",
        "\"\"\"\n",
        "Fisrt we shall install everything we need\n",
        "Zeep - is the python SOAP client we wil use to acess the Brenda SOAP API using python3\n",
        "Pandas - is a python library used for data manipulation and analysis, that we will use to make our tables\n",
        "\"\"\"\n",
        "!pip install zeep\n",
        "!pip install pandas\n",
        "\n",
        "\n",
        "\"\"\"\n",
        "Here we are importing the librarys we will use\n",
        "\"\"\"\n",
        "from zeep import Client\n",
        "import hashlib\n",
        "import pandas as pd\n",
        "import numpy as np"
      ],
      "metadata": {
        "collapsed": true,
        "id": "oWkHscUMcmUi"
      },
      "execution_count": null,
      "outputs": []
    },
    {
      "cell_type": "code",
      "source": [
        "#@title Defining the function to create tables\n",
        "\"\"\"\n",
        "Here we define the functions we will be using\n",
        "\"\"\"\n",
        "def create_table(resultString, name):\n",
        "    \"\"\"\n",
        "    This function receives an output from the BRENDA API and creates a table with all the information in a CSV file\n",
        "    named after the name parameter\n",
        "    \"\"\"\n",
        "    # Define the expected keys\n",
        "    expected_keys = [\n",
        "        'ecNumber', 'organism', 'substrate', 'ligandStructureId', 'temperatureRange',\n",
        "        'temperatureRangeMaximum', 'temperatureStability', 'commentary', 'literature',\n",
        "        'phValue', 'phRange', 'substrateSpecificity', 'kmValue', 'kcatValue',\n",
        "        'turnoverNumber', 'specificActivity', 'inhibitors', 'activatingCompound',\n",
        "        'molecularWeight', 'subunit', 'localization', 'source', 'purification',\n",
        "        'expression', 'crystallization', 'structure', 'reaction', 'cofactor',\n",
        "        'pathway', 'mutant', 'synonym', 'application', 'commentary', 'reference'\n",
        "    ]\n",
        "\n",
        "    data = []\n",
        "    for item in resultString:\n",
        "        # Create a dictionary for each item with NaN as default value\n",
        "        item_data = {key: np.nan for key in expected_keys}\n",
        "        # Update the dictionary with actual values from the item\n",
        "        for key in expected_keys:\n",
        "            if key in item:\n",
        "                item_data[key] = item[key]\n",
        "        data.append(item_data)\n",
        "\n",
        "    df = pd.DataFrame(data)\n",
        "\n",
        "    #removing the blank coluns\n",
        "    df = df.dropna(axis=1, how='all')\n",
        "\n",
        "    # Save the DataFrame to a CSV file\n",
        "    df.to_csv(f\"{name}.csv\", index=False)\n",
        "\n",
        "    return df"
      ],
      "metadata": {
        "id": "R-v-582kHIbz"
      },
      "execution_count": 2,
      "outputs": []
    },
    {
      "cell_type": "markdown",
      "source": [
        "### SOAP Acess - your account goes here\n",
        "in order to acess the Brenda database you will first need to register here(https://www.brenda-enzymes.org/register.php). Then, after confirming your account, you will change the variables user and password to yours."
      ],
      "metadata": {
        "id": "Ra2nWMyrek8q"
      }
    },
    {
      "cell_type": "code",
      "source": [
        "#@title Brenda account setup\n",
        "\"\"\"\n",
        "Here your email account and password to use the Brenda SOAP API\n",
        "\"\"\"\n",
        "#@markdown #### Your BRENDA API **user email** here\n",
        "user=\"example@gmail.com\" # @param {\"type\":\"string\"}\n",
        "#@markdown #### Your BRENDA API **password** here\n",
        "key=\"1234\" # @param {\"type\":\"string\"}\n",
        "\n",
        "wsdl = \"https://www.brenda-enzymes.org/soap/brenda_zeep.wsdl\"\n",
        "password = hashlib.sha256(key.encode(\"utf-8\")).hexdigest()\n",
        "client = Client(wsdl)"
      ],
      "metadata": {
        "id": "zcvX5hALebgB"
      },
      "execution_count": 4,
      "outputs": []
    },
    {
      "cell_type": "markdown",
      "source": [
        "## Retriving Information from BRENDA\n",
        "\n",
        "When using the parameters, you use the \"*\" to separate the key from the value in your search.\n",
        "\n",
        "    ecNumber* (outputs the EC number)\n",
        "    ecNumber*1.12.7.2 (searches for entries with this specific EC number)\n",
        "\n",
        "**Methods**\n",
        "\n",
        "Define your main output.\n",
        "\n",
        "**Parameters**\n",
        "\n",
        "Filter your output.\n",
        "\n",
        "\n"
      ],
      "metadata": {
        "id": "4hhnDsD6vWgk"
      }
    },
    {
      "cell_type": "markdown",
      "source": [
        "### **Example Querys**\n",
        "\n",
        "Here, we provide examples of methods to perform your BRENDA search. Feel free to explore more examples in the BRENDA SOAP API documentation.\n",
        "\n",
        "https://brenda-enzymes.org/soap.php\n",
        "\n",
        "\n"
      ],
      "metadata": {
        "id": "bRP1MUTCuS92"
      }
    },
    {
      "cell_type": "markdown",
      "source": [
        "\n",
        "#### Temperature Stability\n",
        "\n"
      ],
      "metadata": {
        "id": "En9-QsJuARY1"
      }
    },
    {
      "cell_type": "code",
      "source": [
        "\"\"\"\n",
        "Temperature Stability\n",
        "\"\"\"\n",
        "# @markdown **Method** : Temperature Stability\n",
        "\n",
        "# @markdown **Parameters**\n",
        "\n",
        "# @markdown You need at least one of the inputs filled. Letting them blank will get all the entrys\n",
        "ecNumber = \"\" # @param {\"type\":\"string\"}\n",
        "organism = \"Homo Sapiens\" # @param {\"type\":\"string\"}\n",
        "\n",
        "parameters = (user, password,\n",
        "              f\"ecNumber*{ecNumber}\",\n",
        "              \"temperatureRange*\",\n",
        "              \"temperatureRangeMaximum*\",\n",
        "              \"commentary*\",\n",
        "              f\"organism*{organism}\",\n",
        "              \"literature\")\n",
        "\n",
        "resultString = client.service.getTemperatureStability(*parameters)\n",
        "\n",
        "\n",
        "print(f\" number of entrys found {len(resultString)}\")\n",
        "create_table(resultString, \"Temperature Stability\")"
      ],
      "metadata": {
        "id": "_bs-aCaS9eK2",
        "cellView": "form"
      },
      "execution_count": null,
      "outputs": []
    },
    {
      "cell_type": "markdown",
      "source": [
        "#### Application"
      ],
      "metadata": {
        "id": "0FjSzhl58HZs"
      }
    },
    {
      "cell_type": "code",
      "source": [
        "\"\"\"\n",
        "Enzyme Applications Information\n",
        "\"\"\"\n",
        "# @markdown **Method** : Enzyme Applicaitons\n",
        "\n",
        "# @markdown **Parameters**\n",
        "\n",
        "# @markdown You need at least one of the inputs filled. Letting them blank will get all the entrys\n",
        "\n",
        "ecNumber = \"7.6.2.2\"  # @param {\"type\":\"string\"}\n",
        "organism = \"Homo sapiens\"  # @param {\"type\":\"string\"}\n",
        "application = \"medicine\"  # @param {\"type\":\"string\"}\n",
        "\n",
        "parameters = (user, password,\n",
        "    f\"ecNumber*{ecNumber}\",\n",
        "    f\"organism*{organism}\",\n",
        "    f\"application*{application}\",\n",
        "    \"commentary*\",\n",
        "    \"literature*\"\n",
        ")\n",
        "\n",
        "resultString = client.service.getApplication(*parameters)\n",
        "\n",
        "print(f\"Number of entries found: {len(resultString)}\")\n",
        "create_table(resultString, \"Aplication\")\n"
      ],
      "metadata": {
        "id": "QNKjXKf08I6M"
      },
      "execution_count": null,
      "outputs": []
    },
    {
      "cell_type": "markdown",
      "source": [
        "#### Inibitors"
      ],
      "metadata": {
        "id": "OakO2OMw-hnu"
      }
    },
    {
      "cell_type": "code",
      "source": [
        "\"\"\"\n",
        "Enzyme Inhibitors Information\n",
        "\"\"\"\n",
        "# @markdown You need at least one of the inputs filled. Leaving them blank will get all the entries.\n",
        "\n",
        "\n",
        "ecNumber = \"7.6.2.2\"  # @param {\"type\":\"string\"}\n",
        "inhibitor = \"\"  # @param {\"type\":\"string\"}\n",
        "organism = \"Homo sapiens\"  # @param {\"type\":\"string\"}\n",
        "parameters = (\n",
        "    user,\n",
        "    password,\n",
        "    f\"ecNumber*{ecNumber}\",\n",
        "    f\"inhibitor*{inhibitor}\",\n",
        "    \"commentary*\",\n",
        "    f\"organism*{organism}\",\n",
        "    \"ligandStructureId*\",\n",
        "    \"literature*\"\n",
        ")\n",
        "\n",
        "resultString = client.service.getInhibitors(*parameters)\n",
        "\n",
        "print(f\" number of entrys found {len(resultString)}\")\n",
        "create_table(resultString, \"Inibithors\")\n"
      ],
      "metadata": {
        "id": "T0ykj95Y-j9u"
      },
      "execution_count": null,
      "outputs": []
    }
  ]
}